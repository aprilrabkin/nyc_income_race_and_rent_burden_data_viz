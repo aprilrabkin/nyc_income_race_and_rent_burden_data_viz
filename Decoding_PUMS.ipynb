{
 "cells": [
  {
   "cell_type": "code",
   "execution_count": 14,
   "metadata": {
    "collapsed": true
   },
   "outputs": [],
   "source": [
    "import numpy as np\n",
    "import pandas as pd\n",
    "import itertools\n"
   ]
  },
  {
   "cell_type": "markdown",
   "metadata": {},
   "source": [
    "[data source](https://www.census.gov/programs-surveys/acs/data/pums.html)"
   ]
  },
  {
   "cell_type": "code",
   "execution_count": 62,
   "metadata": {
    "collapsed": true
   },
   "outputs": [],
   "source": [
    "#data sample as numpy array, first three rows of 2015 New York PUMS\n",
    "with open(\"ss15hny.csv\") as t_in:\n",
    "    np_data = np.genfromtxt(itertools.islice(t_in, 3), names=True, delimiter=',', dtype=object)"
   ]
  },
  {
   "cell_type": "code",
   "execution_count": 80,
   "metadata": {
    "collapsed": true
   },
   "outputs": [],
   "source": [
    "#entire csv as panda dataframe\n",
    "df = pd.read_csv(\"ss15hny.csv\",header=0)\n",
    "# question... what is default missing data representation\n",
    "# what does later summary functions (mean) do with missing cells?"
   ]
  },
  {
   "cell_type": "code",
   "execution_count": 20,
   "metadata": {
    "collapsed": false,
    "scrolled": true
   },
   "outputs": [
    {
     "name": "stdout",
     "output_type": "stream",
     "text": [
      "('RT', 'SERIALNO', 'DIVISION', 'PUMA', 'REGION', 'ST', 'ADJHSG', 'ADJINC', 'WGTP', 'NP', 'TYPE', 'ACCESS', 'ACR', 'AGS', 'BATH', 'BDSP', 'BLD', 'BROADBND', 'BUS', 'COMPOTHX', 'CONP', 'DIALUP', 'DSL', 'ELEP', 'FIBEROP', 'FS', 'FULP', 'GASP', 'HANDHELD', 'HFL', 'INSP', 'LAPTOP', 'MHP', 'MODEM', 'MRGI', 'MRGP', 'MRGT', 'MRGX', 'OTHSVCEX', 'REFR', 'RMSP', 'RNTM', 'RNTP', 'RWAT', 'RWATPR', 'SATELLITE', 'SINK', 'SMP', 'STOV', 'TEL', 'TEN', 'TOIL', 'VACS', 'VALP', 'VEH', 'WATP', 'YBL', 'FES', 'FFINCP', 'FGRNTP', 'FHINCP', 'FINCP', 'FPARC', 'FPLMPRP', 'FSMOCP', 'GRNTP', 'GRPIP', 'HHL', 'HHT', 'HINCP', 'HOTWAT', 'HUGCL', 'HUPAC', 'HUPAOC', 'HUPARC', 'KIT', 'LNGI', 'MULTG', 'MV', 'NOC', 'NPF', 'NPP', 'NR', 'NRC', 'OCPIP', 'PARTNER', 'PLM', 'PLMPRP', 'PSF', 'R18', 'R60', 'R65', 'RESMODE', 'SMOCP', 'SMX', 'SRNT', 'SSMC', 'SVAL', 'TAXP', 'WIF', 'WKEXREL', 'WORKSTAT', 'FACCESSP', 'FACRP', 'FAGSP', 'FBATHP', 'FBDSP', 'FBLDP', 'FBROADBNDP', 'FBUSP', 'FCOMPOTHXP', 'FCONP', 'FDIALUPP', 'FDSLP', 'FELEP', 'FFIBEROPP', 'FFSP', 'FFULP', 'FGASP', 'FHANDHELDP', 'FHFLP', 'FHOTWATP', 'FINSP', 'FKITP', 'FLAPTOPP', 'FMHP', 'FMODEMP', 'FMRGIP', 'FMRGP', 'FMRGTP', 'FMRGXP', 'FMVP', 'FOTHSVCEXP', 'FPLMP', 'FREFRP', 'FRMSP', 'FRNTMP', 'FRNTP', 'FRWATP', 'FRWATPRP', 'FSATELLITEP', 'FSINKP', 'FSMP', 'FSMXHP', 'FSMXSP', 'FSTOVP', 'FTAXP', 'FTELP', 'FTENP', 'FTOILP', 'FVACSP', 'FVALP', 'FVEHP', 'FWATP', 'FYBLP', 'wgtp1', 'wgtp2', 'wgtp3', 'wgtp4', 'wgtp5', 'wgtp6', 'wgtp7', 'wgtp8', 'wgtp9', 'wgtp10', 'wgtp11', 'wgtp12', 'wgtp13', 'wgtp14', 'wgtp15', 'wgtp16', 'wgtp17', 'wgtp18', 'wgtp19', 'wgtp20', 'wgtp21', 'wgtp22', 'wgtp23', 'wgtp24', 'wgtp25', 'wgtp26', 'wgtp27', 'wgtp28', 'wgtp29', 'wgtp30', 'wgtp31', 'wgtp32', 'wgtp33', 'wgtp34', 'wgtp35', 'wgtp36', 'wgtp37', 'wgtp38', 'wgtp39', 'wgtp40', 'wgtp41', 'wgtp42', 'wgtp43', 'wgtp44', 'wgtp45', 'wgtp46', 'wgtp47', 'wgtp48', 'wgtp49', 'wgtp50', 'wgtp51', 'wgtp52', 'wgtp53', 'wgtp54', 'wgtp55', 'wgtp56', 'wgtp57', 'wgtp58', 'wgtp59', 'wgtp60', 'wgtp61', 'wgtp62', 'wgtp63', 'wgtp64', 'wgtp65', 'wgtp66', 'wgtp67', 'wgtp68', 'wgtp69', 'wgtp70', 'wgtp71', 'wgtp72', 'wgtp73', 'wgtp74', 'wgtp75', 'wgtp76', 'wgtp77', 'wgtp78', 'wgtp79', 'wgtp80')\n"
     ]
    }
   ],
   "source": [
    "#column headers\n",
    "print np_data.dtype.names\n"
   ]
  },
  {
   "cell_type": "markdown",
   "metadata": {},
   "source": [
    "\n",
    "What are these columns? \n",
    "[Codes for column headers and cell data](https://www2.census.gov/programs-surveys/acs/tech_docs/pums/data_dict/PUMSDataDict15.pdf)\n",
    "\n",
    "Each row is a household or family. Which metrics do we want on the map and which data could compose them?\n",
    " \n",
    "* Income\n",
    "    + FINCP (family income)\n",
    "    + ADJINC (Use ADJINC to adjust FINCP to constant dollars. But it seems to be the same for all data in this sample.)\n",
    "* Rent burden\n",
    "    + GRNTP (gross rent)\n",
    "* Race\n",
    "    + RAC1P (race, i.e. Black White American Indian)\n",
    "    + ANC1P (ancestry, i.e. Mexican, Mexican American, or Hispanic)\n",
    "* Location\n",
    "    + PUMA (Public use microdata area code) \n",
    "    + ST (state)\n",
    "\n",
    "[Guide to PUMS](https://www.census.gov/content/dam/Census/library/publications/2009/acs/ACSPUMS.pdf)\n",
    "\n",
    "[More documentation](https://www2.census.gov/programs-surveys/acs/tech_docs/pums/ACS2015_PUMS_README.pdf)"
   ]
  },
  {
   "cell_type": "markdown",
   "metadata": {},
   "source": [
    "[PUMA shapefiles download link from NYU](https://geo.nyu.edu/catalog/nyu_2451_34562)\n",
    "\n",
    "[PUMAs mapped on Carto](https://aprilrabkin.carto.com/builder/b10e6e90-926b-11e7-a56e-0ee462b5436c)\n",
    "\n",
    "[How to join PUMAs geography and their data in Carto, blog by Frank Donnelly, Geospatial Data Librarian, Baruch College CUNY](http://faculty.baruch.cuny.edu/geoportal/resources/other/cartodb_import_data.pdf)\n",
    "\n",
    "[My Carto project](https://aprilrabkin.carto.com/builder/b10e6e90-926b-11e7-a56e-0ee462b5436c)\n",
    "\n",
    "[Pandas cheatsheet](https://github.com/pandas-dev/pandas/blob/master/doc/cheatsheet/Pandas_Cheat_Sheet.pdf)"
   ]
  },
  {
   "cell_type": "code",
   "execution_count": 21,
   "metadata": {
    "collapsed": false
   },
   "outputs": [
    {
     "name": "stdout",
     "output_type": "stream",
     "text": [
      "(92817, 235)\n"
     ]
    }
   ],
   "source": [
    "print df.shape #rows and columns"
   ]
  },
  {
   "cell_type": "code",
   "execution_count": 63,
   "metadata": {
    "collapsed": false
   },
   "outputs": [
    {
     "name": "stdout",
     "output_type": "stream",
     "text": [
      "   PUMA     FINCP   GRNTP\n",
      "0  3806       NaN  2760.0\n",
      "1  3205   26020.0     NaN\n",
      "2  3312       NaN     NaN\n",
      "3  4004   15600.0   420.0\n",
      "4  1500       NaN     NaN\n",
      "5  1400       NaN     NaN\n",
      "6  1500   81800.0     NaN\n",
      "7   904       NaN     NaN\n",
      "8  3203   46040.0     NaN\n",
      "9   200  102600.0     NaN\n"
     ]
    }
   ],
   "source": [
    "print df[['PUMA','FINCP','GRNTP']].head(10)"
   ]
  },
  {
   "cell_type": "code",
   "execution_count": 51,
   "metadata": {
    "collapsed": false
   },
   "outputs": [
    {
     "name": "stdout",
     "output_type": "stream",
     "text": [
      "(92817, 235)\n"
     ]
    }
   ],
   "source": [
    "print df.shape"
   ]
  },
  {
   "cell_type": "code",
   "execution_count": 59,
   "metadata": {
    "collapsed": false
   },
   "outputs": [
    {
     "name": "stdout",
     "output_type": "stream",
     "text": [
      "145\n",
      "7873\n",
      "1685\n"
     ]
    }
   ],
   "source": [
    "print df.PUMA.nunique()\n",
    "print df.FINCP.nunique()\n",
    "print df.GRNTP.nunique()\n",
    "#print df.PUMA.value_counts()"
   ]
  },
  {
   "cell_type": "code",
   "execution_count": 64,
   "metadata": {
    "collapsed": false
   },
   "outputs": [
    {
     "name": "stdout",
     "output_type": "stream",
     "text": [
      "36    92817\n",
      "Name: ST, dtype: int64\n"
     ]
    }
   ],
   "source": [
    "print df.ST.value_counts() #Make sure it's only NY State data"
   ]
  },
  {
   "cell_type": "code",
   "execution_count": 90,
   "metadata": {
    "collapsed": true
   },
   "outputs": [],
   "source": [
    "#filter out 232 other columns\n",
    "df1 = df[['PUMA','FINCP','GRNTP']]"
   ]
  },
  {
   "cell_type": "code",
   "execution_count": 81,
   "metadata": {
    "collapsed": false
   },
   "outputs": [
    {
     "name": "stdout",
     "output_type": "stream",
     "text": [
      "(48436, 235)\n",
      "(26560, 235)\n"
     ]
    }
   ],
   "source": [
    "#what if we filter out records with null values in any of these three columns?\n",
    "print df[pd.notnull(df['FINCP'])].shape\n",
    "print df[pd.notnull(df['GRNTP'])].shape "
   ]
  },
  {
   "cell_type": "code",
   "execution_count": 83,
   "metadata": {
    "collapsed": true
   },
   "outputs": [],
   "source": [
    "# only 48,436 reporting income\n",
    "# only 26,560 reporting rent\n",
    "# next: build table of average GRNTP * 12 / average FINCP for each PUMA"
   ]
  },
  {
   "cell_type": "code",
   "execution_count": 129,
   "metadata": {
    "collapsed": false
   },
   "outputs": [],
   "source": [
    "avgs_per_puma = df1.groupby(by='PUMA').mean() #does this ignore the NaNs?"
   ]
  },
  {
   "cell_type": "code",
   "execution_count": 130,
   "metadata": {
    "collapsed": false
   },
   "outputs": [
    {
     "name": "stdout",
     "output_type": "stream",
     "text": [
      "<class 'pandas.core.frame.DataFrame'>\n"
     ]
    }
   ],
   "source": [
    "#print avgs_per_puma\n",
    "print type(avgs_per_puma)"
   ]
  },
  {
   "cell_type": "code",
   "execution_count": 142,
   "metadata": {
    "collapsed": false
   },
   "outputs": [],
   "source": [
    "avgs_per_puma['rent_burden'] = avgs_per_puma['GRNTP']*12/avgs_per_puma['FINCP']"
   ]
  },
  {
   "cell_type": "code",
   "execution_count": 143,
   "metadata": {
    "collapsed": false
   },
   "outputs": [
    {
     "name": "stdout",
     "output_type": "stream",
     "text": [
      "Index([u'FINCP', u'GRNTP', u'rent_burden', u'rent_burden_percent'], dtype='object')\n"
     ]
    }
   ],
   "source": [
    "\n",
    "print avgs_per_puma.columns"
   ]
  },
  {
   "cell_type": "code",
   "execution_count": 145,
   "metadata": {
    "collapsed": true
   },
   "outputs": [],
   "source": [
    "avgs_per_puma.to_csv('rent_burden.csv')"
   ]
  },
  {
   "cell_type": "code",
   "execution_count": 140,
   "metadata": {
    "collapsed": false
   },
   "outputs": [],
   "source": []
  },
  {
   "cell_type": "code",
   "execution_count": 144,
   "metadata": {
    "collapsed": false
   },
   "outputs": [
    {
     "name": "stdout",
     "output_type": "stream",
     "text": [
      "              FINCP        GRNTP  rent_burden  rent_burden_percent\n",
      "PUMA                                                              \n",
      "100    68960.468271   836.325581     0.145531                   14\n",
      "200    73745.153614   811.250000     0.132009                   13\n",
      "300    95146.198630   859.746377     0.108433                   10\n",
      "401    78560.884058   698.226415     0.106653                   10\n",
      "402    81234.534826   781.323276     0.115417                   11\n",
      "403    79536.617886   834.704819     0.125935                   12\n",
      "500    76505.660194   920.662338     0.144407                   14\n",
      "600    70220.836406   730.755556     0.124878                   12\n",
      "701    68064.697368   828.530055     0.146072                   14\n",
      "702    97361.892351   946.548077     0.116663                   11\n",
      "703   106445.956967   976.235294     0.110054                   11\n",
      "704    92479.949627   727.507576     0.094400                    9\n",
      "800    83291.344196   747.440299     0.107686                   10\n",
      "901    96310.540698   959.756098     0.119583                   11\n",
      "902    57436.542857   802.682594     0.167701                   16\n",
      "903    51887.655000   830.985577     0.192181                   19\n",
      "904    85812.070946   936.212121     0.130920                   13\n",
      "905    95115.426573   919.890625     0.116056                   11\n",
      "906   132185.467172  1130.829630     0.102658                   10\n",
      "1000   74063.524390   706.285714     0.114435                   11\n",
      "1101   68868.025547   650.138889     0.113284                   11\n",
      "1102   92269.667820   728.752809     0.094777                    9\n",
      "1201   88921.658228   758.769231     0.102396                   10\n",
      "1202  118531.736641  1097.941748     0.111154                   11\n",
      "1203  111100.200704   836.193548     0.090318                    9\n",
      "1204   77453.113208   726.982249     0.112633                   11\n",
      "1205   51418.593960   744.503846     0.173751                   17\n",
      "1206   79690.000000   748.031373     0.112641                   11\n",
      "1207   99148.981328   743.540323     0.089991                    8\n",
      "1300   78682.751073   679.577236     0.103643                   10\n",
      "...             ...          ...          ...                  ...\n",
      "4003   83442.229249  1341.262500     0.192890                   19\n",
      "4004  193775.209924  1890.258398     0.117059                   11\n",
      "4005  194695.820789  2118.347826     0.130564                   13\n",
      "4006   78111.572052  1371.591549     0.210713                   21\n",
      "4007   53566.239130   898.796429     0.201350                   20\n",
      "4008   62471.537267  1079.724684     0.207402                   20\n",
      "4009  103282.982343  1301.503472     0.151216                   15\n",
      "4010   76339.398827  1224.116541     0.192422                   19\n",
      "4011   75670.005102  1297.156584     0.205707                   20\n",
      "4012   79307.389078  1312.322034     0.198567                   19\n",
      "4013  101351.302703  1400.269231     0.165792                   16\n",
      "4014   81039.892231  1386.812500     0.205353                   20\n",
      "4015  100161.192529  1344.906667     0.161129                   16\n",
      "4016   99734.618510  1330.503704     0.160085                   16\n",
      "4017   75820.890909  1204.691099     0.190664                   19\n",
      "4018   72458.755814  1026.011583     0.169919                   16\n",
      "4101   90908.400000  1523.481947     0.201101                   20\n",
      "4102   69460.000000  1401.226721     0.242078                   24\n",
      "4103   85144.395270  1392.724684     0.196287                   19\n",
      "4104  116410.676301  1601.658537     0.165104                   16\n",
      "4105  101927.662338  1496.180645     0.176146                   17\n",
      "4106  101328.434018  1447.830986     0.171462                   17\n",
      "4107   59849.000000  1408.000000     0.282310                   28\n",
      "4108  120644.302405  1515.941441     0.150785                   15\n",
      "4109   99256.866667  1747.246875     0.211239                   21\n",
      "4110   93730.650505  1459.860119     0.186901                   18\n",
      "4111   90458.644796  1400.120155     0.185736                   18\n",
      "4112   86000.693878  1267.066007     0.176798                   17\n",
      "4113   90706.752976  1464.616667     0.193761                   19\n",
      "4114   92644.334884  1137.857143     0.147384                   14\n",
      "\n",
      "[145 rows x 4 columns]\n"
     ]
    }
   ],
   "source": [
    "print avgs_per_puma"
   ]
  },
  {
   "cell_type": "code",
   "execution_count": null,
   "metadata": {
    "collapsed": true
   },
   "outputs": [],
   "source": []
  }
 ],
 "metadata": {
  "kernelspec": {
   "display_name": "Python 2",
   "language": "python",
   "name": "python2"
  },
  "language_info": {
   "codemirror_mode": {
    "name": "ipython",
    "version": 2
   },
   "file_extension": ".py",
   "mimetype": "text/x-python",
   "name": "python",
   "nbconvert_exporter": "python",
   "pygments_lexer": "ipython2",
   "version": "2.7.13"
  }
 },
 "nbformat": 4,
 "nbformat_minor": 2
}
