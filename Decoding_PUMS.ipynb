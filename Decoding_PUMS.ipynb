{
 "cells": [
  {
   "cell_type": "code",
   "execution_count": 14,
   "metadata": {
    "collapsed": true
   },
   "outputs": [],
   "source": [
    "import numpy as np\n",
    "import pandas as pd\n",
    "import itertools\n"
   ]
  },
  {
   "cell_type": "markdown",
   "metadata": {},
   "source": [
    "[data source](https://www.census.gov/programs-surveys/acs/data/pums.html)"
   ]
  },
  {
   "cell_type": "code",
   "execution_count": 62,
   "metadata": {
    "collapsed": true
   },
   "outputs": [],
   "source": [
    "#data sample as numpy array, first three rows of 2015 New York PUMS\n",
    "with open(\"ss15hny.csv\") as t_in:\n",
    "    np_data = np.genfromtxt(itertools.islice(t_in, 3), names=True, delimiter=',', dtype=object)"
   ]
  },
  {
   "cell_type": "code",
   "execution_count": 80,
   "metadata": {
    "collapsed": true
   },
   "outputs": [],
   "source": [
    "#entire csv as panda dataframe\n",
    "df = pd.read_csv(\"ss15hny.csv\",header=0)\n",
    "# question... what is default missing data representation\n",
    "# what does later summary functions (mean) do with missing cells?"
   ]
  },
  {
   "cell_type": "code",
   "execution_count": 20,
   "metadata": {
    "collapsed": false,
    "scrolled": true
   },
   "outputs": [
    {
     "name": "stdout",
     "output_type": "stream",
     "text": [
      "('RT', 'SERIALNO', 'DIVISION', 'PUMA', 'REGION', 'ST', 'ADJHSG', 'ADJINC', 'WGTP', 'NP', 'TYPE', 'ACCESS', 'ACR', 'AGS', 'BATH', 'BDSP', 'BLD', 'BROADBND', 'BUS', 'COMPOTHX', 'CONP', 'DIALUP', 'DSL', 'ELEP', 'FIBEROP', 'FS', 'FULP', 'GASP', 'HANDHELD', 'HFL', 'INSP', 'LAPTOP', 'MHP', 'MODEM', 'MRGI', 'MRGP', 'MRGT', 'MRGX', 'OTHSVCEX', 'REFR', 'RMSP', 'RNTM', 'RNTP', 'RWAT', 'RWATPR', 'SATELLITE', 'SINK', 'SMP', 'STOV', 'TEL', 'TEN', 'TOIL', 'VACS', 'VALP', 'VEH', 'WATP', 'YBL', 'FES', 'FFINCP', 'FGRNTP', 'FHINCP', 'FINCP', 'FPARC', 'FPLMPRP', 'FSMOCP', 'GRNTP', 'GRPIP', 'HHL', 'HHT', 'HINCP', 'HOTWAT', 'HUGCL', 'HUPAC', 'HUPAOC', 'HUPARC', 'KIT', 'LNGI', 'MULTG', 'MV', 'NOC', 'NPF', 'NPP', 'NR', 'NRC', 'OCPIP', 'PARTNER', 'PLM', 'PLMPRP', 'PSF', 'R18', 'R60', 'R65', 'RESMODE', 'SMOCP', 'SMX', 'SRNT', 'SSMC', 'SVAL', 'TAXP', 'WIF', 'WKEXREL', 'WORKSTAT', 'FACCESSP', 'FACRP', 'FAGSP', 'FBATHP', 'FBDSP', 'FBLDP', 'FBROADBNDP', 'FBUSP', 'FCOMPOTHXP', 'FCONP', 'FDIALUPP', 'FDSLP', 'FELEP', 'FFIBEROPP', 'FFSP', 'FFULP', 'FGASP', 'FHANDHELDP', 'FHFLP', 'FHOTWATP', 'FINSP', 'FKITP', 'FLAPTOPP', 'FMHP', 'FMODEMP', 'FMRGIP', 'FMRGP', 'FMRGTP', 'FMRGXP', 'FMVP', 'FOTHSVCEXP', 'FPLMP', 'FREFRP', 'FRMSP', 'FRNTMP', 'FRNTP', 'FRWATP', 'FRWATPRP', 'FSATELLITEP', 'FSINKP', 'FSMP', 'FSMXHP', 'FSMXSP', 'FSTOVP', 'FTAXP', 'FTELP', 'FTENP', 'FTOILP', 'FVACSP', 'FVALP', 'FVEHP', 'FWATP', 'FYBLP', 'wgtp1', 'wgtp2', 'wgtp3', 'wgtp4', 'wgtp5', 'wgtp6', 'wgtp7', 'wgtp8', 'wgtp9', 'wgtp10', 'wgtp11', 'wgtp12', 'wgtp13', 'wgtp14', 'wgtp15', 'wgtp16', 'wgtp17', 'wgtp18', 'wgtp19', 'wgtp20', 'wgtp21', 'wgtp22', 'wgtp23', 'wgtp24', 'wgtp25', 'wgtp26', 'wgtp27', 'wgtp28', 'wgtp29', 'wgtp30', 'wgtp31', 'wgtp32', 'wgtp33', 'wgtp34', 'wgtp35', 'wgtp36', 'wgtp37', 'wgtp38', 'wgtp39', 'wgtp40', 'wgtp41', 'wgtp42', 'wgtp43', 'wgtp44', 'wgtp45', 'wgtp46', 'wgtp47', 'wgtp48', 'wgtp49', 'wgtp50', 'wgtp51', 'wgtp52', 'wgtp53', 'wgtp54', 'wgtp55', 'wgtp56', 'wgtp57', 'wgtp58', 'wgtp59', 'wgtp60', 'wgtp61', 'wgtp62', 'wgtp63', 'wgtp64', 'wgtp65', 'wgtp66', 'wgtp67', 'wgtp68', 'wgtp69', 'wgtp70', 'wgtp71', 'wgtp72', 'wgtp73', 'wgtp74', 'wgtp75', 'wgtp76', 'wgtp77', 'wgtp78', 'wgtp79', 'wgtp80')\n"
     ]
    }
   ],
   "source": [
    "#column headers\n",
    "print np_data.dtype.names\n"
   ]
  },
  {
   "cell_type": "markdown",
   "metadata": {},
   "source": [
    "\n",
    "What are these columns? \n",
    "[Codes for column headers and cell data](https://www2.census.gov/programs-surveys/acs/tech_docs/pums/data_dict/PUMSDataDict15.pdf)\n",
    "\n",
    "Each row is a household or family. Which metrics do we want on the map and which data could compose them?\n",
    " \n",
    "* Income\n",
    "    + FINCP (family income)\n",
    "    + ADJINC (Use ADJINC to adjust FINCP to constant dollars. But it seems to be the same for all data in this sample.)\n",
    "* Rent burden\n",
    "    + GRNTP (gross rent)\n",
    "* Race\n",
    "    + RAC1P (race, i.e. Black White American Indian)\n",
    "    + ANC1P (ancestry, i.e. Mexican, Mexican American, or Hispanic)\n",
    "* Location\n",
    "    + PUMA (Public use microdata area code) \n",
    "    + ST (state)\n",
    "\n",
    "[Guide to PUMS](https://www.census.gov/content/dam/Census/library/publications/2009/acs/ACSPUMS.pdf)\n",
    "\n",
    "[More documentation](https://www2.census.gov/programs-surveys/acs/tech_docs/pums/ACS2015_PUMS_README.pdf)"
   ]
  },
  {
   "cell_type": "markdown",
   "metadata": {},
   "source": [
    "[PUMA shapefiles download link from NYU](https://geo.nyu.edu/catalog/nyu_2451_34562)\n",
    "\n",
    "[My Carto project](https://aprilrabkin.carto.com/builder/b10e6e90-926b-11e7-a56e-0ee462b5436c)\n",
    "\n",
    "[Pandas cheatsheet](https://github.com/pandas-dev/pandas/blob/master/doc/cheatsheet/Pandas_Cheat_Sheet.pdf)"
   ]
  },
  {
   "cell_type": "code",
   "execution_count": 21,
   "metadata": {
    "collapsed": false
   },
   "outputs": [
    {
     "name": "stdout",
     "output_type": "stream",
     "text": [
      "(92817, 235)\n"
     ]
    }
   ],
   "source": [
    "print df.shape #rows and columns"
   ]
  },
  {
   "cell_type": "code",
   "execution_count": 63,
   "metadata": {
    "collapsed": false
   },
   "outputs": [
    {
     "name": "stdout",
     "output_type": "stream",
     "text": [
      "   PUMA     FINCP   GRNTP\n",
      "0  3806       NaN  2760.0\n",
      "1  3205   26020.0     NaN\n",
      "2  3312       NaN     NaN\n",
      "3  4004   15600.0   420.0\n",
      "4  1500       NaN     NaN\n",
      "5  1400       NaN     NaN\n",
      "6  1500   81800.0     NaN\n",
      "7   904       NaN     NaN\n",
      "8  3203   46040.0     NaN\n",
      "9   200  102600.0     NaN\n"
     ]
    }
   ],
   "source": [
    "print df[['PUMA','FINCP','GRNTP']].head(10)"
   ]
  },
  {
   "cell_type": "code",
   "execution_count": 51,
   "metadata": {
    "collapsed": false
   },
   "outputs": [
    {
     "name": "stdout",
     "output_type": "stream",
     "text": [
      "(92817, 235)\n"
     ]
    }
   ],
   "source": [
    "print df.shape"
   ]
  },
  {
   "cell_type": "code",
   "execution_count": 59,
   "metadata": {
    "collapsed": false
   },
   "outputs": [
    {
     "name": "stdout",
     "output_type": "stream",
     "text": [
      "145\n",
      "7873\n",
      "1685\n"
     ]
    }
   ],
   "source": [
    "print df.PUMA.nunique()\n",
    "print df.FINCP.nunique()\n",
    "print df.GRNTP.nunique()\n",
    "#print df.PUMA.value_counts()"
   ]
  },
  {
   "cell_type": "code",
   "execution_count": 64,
   "metadata": {
    "collapsed": false
   },
   "outputs": [
    {
     "name": "stdout",
     "output_type": "stream",
     "text": [
      "36    92817\n",
      "Name: ST, dtype: int64\n"
     ]
    }
   ],
   "source": [
    "print df.ST.value_counts() #Make sure it's only NY State data"
   ]
  },
  {
   "cell_type": "code",
   "execution_count": 90,
   "metadata": {
    "collapsed": true
   },
   "outputs": [],
   "source": [
    "#filter out 232 other columns\n",
    "df1 = df[['PUMA','FINCP','GRNTP']]"
   ]
  },
  {
   "cell_type": "code",
   "execution_count": 81,
   "metadata": {
    "collapsed": false
   },
   "outputs": [
    {
     "name": "stdout",
     "output_type": "stream",
     "text": [
      "(48436, 235)\n",
      "(26560, 235)\n"
     ]
    }
   ],
   "source": [
    "#what if we filter out records with null values in any of these three columns?\n",
    "print df[pd.notnull(df['FINCP'])].shape\n",
    "print df[pd.notnull(df['GRNTP'])].shape "
   ]
  },
  {
   "cell_type": "code",
   "execution_count": 83,
   "metadata": {
    "collapsed": true
   },
   "outputs": [],
   "source": [
    "# only 48,436 reporting income\n",
    "# only 26,560 reporting rent\n",
    "# next: build table of average GRNTP * 12 / average FINCP for each PUMA"
   ]
  },
  {
   "cell_type": "code",
   "execution_count": 129,
   "metadata": {
    "collapsed": false
   },
   "outputs": [],
   "source": [
    "avgs_per_puma = df1.groupby(by='PUMA').mean() #does this ignore the NaNs?"
   ]
  },
  {
   "cell_type": "code",
   "execution_count": 130,
   "metadata": {
    "collapsed": false
   },
   "outputs": [
    {
     "name": "stdout",
     "output_type": "stream",
     "text": [
      "<class 'pandas.core.frame.DataFrame'>\n"
     ]
    }
   ],
   "source": [
    "#print avgs_per_puma\n",
    "print type(avgs_per_puma)"
   ]
  },
  {
   "cell_type": "code",
   "execution_count": 142,
   "metadata": {
    "collapsed": false
   },
   "outputs": [],
   "source": [
    "avgs_per_puma['rent_burden'] = avgs_per_puma['GRNTP']*12/avgs_per_puma['FINCP']"
   ]
  },
  {
   "cell_type": "code",
   "execution_count": 143,
   "metadata": {
    "collapsed": false
   },
   "outputs": [
    {
     "name": "stdout",
     "output_type": "stream",
     "text": [
      "Index([u'FINCP', u'GRNTP', u'rent_burden', u'rent_burden_percent'], dtype='object')\n"
     ]
    }
   ],
   "source": [
    "\n",
    "print avgs_per_puma.columns"
   ]
  },
  {
   "cell_type": "code",
   "execution_count": 145,
   "metadata": {
    "collapsed": true
   },
   "outputs": [],
   "source": [
    "avgs_per_puma.to_csv('rent_burden.csv')"
   ]
  },
  {
   "cell_type": "code",
   "execution_count": 140,
   "metadata": {
    "collapsed": false
   },
   "outputs": [],
   "source": []
  },
  {
   "cell_type": "code",
   "execution_count": 144,
   "metadata": {
    "collapsed": false
   },
   "outputs": [
    {
     "name": "stdout",
     "output_type": "stream",
     "text": [
      "              FINCP        GRNTP  rent_burden  rent_burden_percent\n",
      "PUMA                                                              \n",
      "100    68960.468271   836.325581     0.145531                   14\n",
      "200    73745.153614   811.250000     0.132009                   13\n",
      "300    95146.198630   859.746377     0.108433                   10\n",
      "401    78560.884058   698.226415     0.106653                   10\n",
      "402    81234.534826   781.323276     0.115417                   11\n",
      "403    79536.617886   834.704819     0.125935                   12\n",
      "500    76505.660194   920.662338     0.144407                   14\n",
      "600    70220.836406   730.755556     0.124878                   12\n",
      "701    68064.697368   828.530055     0.146072                   14\n",
      "702    97361.892351   946.548077     0.116663                   11\n",
      "703   106445.956967   976.235294     0.110054                   11\n",
      "704    92479.949627   727.507576     0.094400                    9\n",
      "800    83291.344196   747.440299     0.107686                   10\n",
      "901    96310.540698   959.756098     0.119583                   11\n",
      "902    57436.542857   802.682594     0.167701                   16\n",
      "903    51887.655000   830.985577     0.192181                   19\n",
      "904    85812.070946   936.212121     0.130920                   13\n",
      "905    95115.426573   919.890625     0.116056                   11\n",
      "906   132185.467172  1130.829630     0.102658                   10\n",
      "1000   74063.524390   706.285714     0.114435                   11\n",
      "1101   68868.025547   650.138889     0.113284                   11\n",
      "1102   92269.667820   728.752809     0.094777                    9\n",
      "1201   88921.658228   758.769231     0.102396                   10\n",
      "1202  118531.736641  1097.941748     0.111154                   11\n",
      "1203  111100.200704   836.193548     0.090318                    9\n",
      "1204   77453.113208   726.982249     0.112633                   11\n",
      "1205   51418.593960   744.503846     0.173751                   17\n",
      "1206   79690.000000   748.031373     0.112641                   11\n",
      "1207   99148.981328   743.540323     0.089991                    8\n",
      "1300   78682.751073   679.577236     0.103643                   10\n",
      "...             ...          ...          ...                  ...\n",
      "4003   83442.229249  1341.262500     0.192890                   19\n",
      "4004  193775.209924  1890.258398     0.117059                   11\n",
      "4005  194695.820789  2118.347826     0.130564                   13\n",
      "4006   78111.572052  1371.591549     0.210713                   21\n",
      "4007   53566.239130   898.796429     0.201350                   20\n",
      "4008   62471.537267  1079.724684     0.207402                   20\n",
      "4009  103282.982343  1301.503472     0.151216                   15\n",
      "4010   76339.398827  1224.116541     0.192422                   19\n",
      "4011   75670.005102  1297.156584     0.205707                   20\n",
      "4012   79307.389078  1312.322034     0.198567                   19\n",
      "4013  101351.302703  1400.269231     0.165792                   16\n",
      "4014   81039.892231  1386.812500     0.205353                   20\n",
      "4015  100161.192529  1344.906667     0.161129                   16\n",
      "4016   99734.618510  1330.503704     0.160085                   16\n",
      "4017   75820.890909  1204.691099     0.190664                   19\n",
      "4018   72458.755814  1026.011583     0.169919                   16\n",
      "4101   90908.400000  1523.481947     0.201101                   20\n",
      "4102   69460.000000  1401.226721     0.242078                   24\n",
      "4103   85144.395270  1392.724684     0.196287                   19\n",
      "4104  116410.676301  1601.658537     0.165104                   16\n",
      "4105  101927.662338  1496.180645     0.176146                   17\n",
      "4106  101328.434018  1447.830986     0.171462                   17\n",
      "4107   59849.000000  1408.000000     0.282310                   28\n",
      "4108  120644.302405  1515.941441     0.150785                   15\n",
      "4109   99256.866667  1747.246875     0.211239                   21\n",
      "4110   93730.650505  1459.860119     0.186901                   18\n",
      "4111   90458.644796  1400.120155     0.185736                   18\n",
      "4112   86000.693878  1267.066007     0.176798                   17\n",
      "4113   90706.752976  1464.616667     0.193761                   19\n",
      "4114   92644.334884  1137.857143     0.147384                   14\n",
      "\n",
      "[145 rows x 4 columns]\n"
     ]
    }
   ],
   "source": [
    "print avgs_per_puma"
   ]
  },
  {
   "cell_type": "code",
   "execution_count": 146,
   "metadata": {
    "collapsed": false
   },
   "outputs": [
    {
     "name": "stdout",
     "output_type": "stream",
     "text": [
      "<bound method GeoDataFrame.head of     PUMA    Shape_Area     Shape_Leng  \\\n",
      "0   3701  9.793278e+07   53287.177054   \n",
      "1   3702  1.889968e+08  106047.764767   \n",
      "2   3704  1.062121e+08   47971.694985   \n",
      "3   3705  1.224932e+08   68592.769561   \n",
      "4   3706  4.388333e+07   52089.611906   \n",
      "5   3707  4.227752e+07   37580.013431   \n",
      "6   3708  5.589653e+07   34853.551479   \n",
      "7   3709  1.241064e+08   73155.156201   \n",
      "8   3710  1.377953e+08   91133.335817   \n",
      "9   3801  8.125211e+07   64047.071933   \n",
      "10  3802  4.689992e+07   37923.269524   \n",
      "11  3803  3.983944e+07   38193.793288   \n",
      "12  3804  6.462190e+07   63165.855753   \n",
      "13  3805  5.516227e+07   52971.675191   \n",
      "14  3806  8.849629e+07   47541.367648   \n",
      "15  3807  8.560316e+07   72184.063758   \n",
      "16  3808  4.496904e+07   42380.091372   \n",
      "17  3809  4.869627e+07   35283.884764   \n",
      "18  3810  8.092287e+07  122306.680573   \n",
      "19  3901  5.715762e+08  194788.223429   \n",
      "20  3902  6.760010e+08  153438.155956   \n",
      "21  3903  3.762426e+08  158125.451155   \n",
      "22  4001  1.149370e+08   74020.682902   \n",
      "23  4002  7.069205e+07   44937.190811   \n",
      "24  4003  6.403672e+07   44724.498849   \n",
      "25  4004  8.663751e+07   73137.358560   \n",
      "26  4005  1.144979e+08   95442.552539   \n",
      "27  4006  6.186072e+07   42534.165950   \n",
      "28  4007  7.220681e+07   44862.448784   \n",
      "29  4008  1.643584e+08   98366.052138   \n",
      "30  4009  3.469533e+08  379689.733521   \n",
      "31  4010  8.590867e+07   49993.274967   \n",
      "32  4011  4.763299e+07   34983.357573   \n",
      "33  4012  1.123333e+08   98467.273802   \n",
      "34  4013  1.069977e+08   48173.166104   \n",
      "35  4014  8.768042e+07   51089.072851   \n",
      "36  4015  8.105438e+07   50007.415492   \n",
      "37  4016  1.207135e+08  109477.817774   \n",
      "38  4017  1.029813e+08   49015.765433   \n",
      "39  4018  9.599590e+07   76143.432350   \n",
      "40  4101  1.432382e+08   70483.011648   \n",
      "41  4102  1.171099e+08   62640.755130   \n",
      "42  4103  3.298519e+08  144139.789939   \n",
      "43  4104  2.607209e+08   99289.915459   \n",
      "44  4105  5.497187e+08  205314.355019   \n",
      "45  4106  2.073302e+08   79763.661386   \n",
      "46  4107  1.075153e+08   99956.006620   \n",
      "47  4108  7.776906e+07   37997.553391   \n",
      "48  4109  1.669799e+08   95285.372199   \n",
      "49  4110  2.050322e+08   71264.247591   \n",
      "50  4111  1.325116e+08   56244.607529   \n",
      "51  4112  2.600521e+08   72781.440395   \n",
      "52  4113  1.714870e+08  110701.699233   \n",
      "53  4114  3.158948e+08  413144.966164   \n",
      "54  3703  2.673727e+08  305029.924668   \n",
      "\n",
      "                                             geometry  \n",
      "0   POLYGON ((1006076.28338623 262138.1090087891, ...  \n",
      "1   POLYGON ((1021632.335632324 267934.4393920898,...  \n",
      "2   POLYGON ((1026308.769592285 256767.6972045898,...  \n",
      "3   POLYGON ((1020434.516601562 248704.9116210938,...  \n",
      "4   POLYGON ((1011917.66619873 255535.5838012695, ...  \n",
      "5   POLYGON ((1012009.464599609 253420.0203857422,...  \n",
      "6   POLYGON ((1005060.892822266 247052.5200195312,...  \n",
      "7   (POLYGON ((1029456.000793457 237188.9177856445...  \n",
      "8   (POLYGON ((1012821.805786133 229228.2645874023...  \n",
      "9   (POLYGON ((1004601.953430176 259027.5151977539...  \n",
      "10  POLYGON ((1001062.708984375 241053.7687988281,...  \n",
      "11  POLYGON ((1001142.377197266 241305.2088012695,...  \n",
      "12  (POLYGON ((1006028.597595215 231058.7962036133...  \n",
      "13  (POLYGON ((1000370.938598633 219466.6605834961...  \n",
      "14  POLYGON ((989355.5845947266 219020.2369995117,...  \n",
      "15  POLYGON ((985170.3721923828 221087.3887939453,...  \n",
      "16  (POLYGON ((994681.4056396484 203127.6748046875...  \n",
      "17  (POLYGON ((989137.1102294922 196325.4387817383...  \n",
      "18  (POLYGON ((981219.0557861328 188655.3157958984...  \n",
      "19  (POLYGON ((970217.0223999023 145643.3322143555...  \n",
      "20  POLYGON ((959034.3497924805 161250.7775878906,...  \n",
      "21  (POLYGON ((939997.0947875977 173013.5794067383...  \n",
      "22  POLYGON ((996887.8187866211 208559.3403930664,...  \n",
      "23  POLYGON ((1002957.734436035 197313.9630126953,...  \n",
      "24  POLYGON ((1000223.91998291 194677.7355957031, ...  \n",
      "25  POLYGON ((991923.9985961914 197615.7178344727,...  \n",
      "26  POLYGON ((983752.4111938477 191458.0272216797,...  \n",
      "27  POLYGON ((1003897.089599609 188278.6498413086,...  \n",
      "28  POLYGON ((1011097.269592285 186574.8106079102,...  \n",
      "29  (POLYGON ((1015251.087036133 174914.5614013672...  \n",
      "30  (POLYGON ((1007822.043395996 152881.5875854492...  \n",
      "31  POLYGON ((1006386.648193359 179733.3193969727,...  \n",
      "32  POLYGON ((1004147.387390137 180267.5375976562,...  \n",
      "33  POLYGON ((985104.9985961914 183067.0723876953,...  \n",
      "34  POLYGON ((974794.2377929688 174019.1569824219,...  \n",
      "35  POLYGON ((982499.6558227539 169743.8810424805,...  \n",
      "36  POLYGON ((997086.45703125 171933.9880371094, 9...  \n",
      "37  POLYGON ((999782.7833862305 162246.8424072266,...  \n",
      "38  POLYGON ((986318.1619873047 166716.416809082, ...  \n",
      "39  POLYGON ((992169.2720336914 156843.4053955078,...  \n",
      "40  POLYGON ((1010148.118591309 227175.0521850586,...  \n",
      "41  (POLYGON ((1014692.487792969 221148.8715820312...  \n",
      "42  (POLYGON ((1020835.19519043 226161.342590332, ...  \n",
      "43  POLYGON ((1055302.830200195 222915.1177978516,...  \n",
      "44  POLYGON ((1054355.516784668 206135.6910400391,...  \n",
      "45  POLYGON ((1049881.158630371 208333.9739990234,...  \n",
      "46  POLYGON ((1023873.126586914 217682.0093994141,...  \n",
      "47  POLYGON ((1026559.225402832 208467.841003418, ...  \n",
      "48  POLYGON ((1012935.740600586 212206.0104370117,...  \n",
      "49  POLYGON ((1012564.178039551 207131.8432006836,...  \n",
      "50  POLYGON ((1033351.717041016 198700.8569946289,...  \n",
      "51  POLYGON ((1051539.660400391 201007.0130004883,...  \n",
      "52  (POLYGON ((1023868.747192383 176222.7232055664...  \n",
      "53  (POLYGON ((1029606.076599121 156073.8142089844...  \n",
      "54  (POLYGON ((1042822.450195312 243439.8142089844...  >\n"
     ]
    }
   ],
   "source": [
    "# having trouble joining this table with the puma shapefile in carto's sql console, so doing it here\n",
    "import geopandas as gpd\n",
    "shapefile_df = gpd.read_file('shapefiles/nyu_2451_34562.shp')\n",
    "print shapefile_df.head"
   ]
  },
  {
   "cell_type": "code",
   "execution_count": 194,
   "metadata": {
    "collapsed": false
   },
   "outputs": [
    {
     "name": "stdout",
     "output_type": "stream",
     "text": [
      "int64\n",
      "object\n",
      "0     3701\n",
      "1     3702\n",
      "2     3704\n",
      "3     3705\n",
      "4     3706\n",
      "5     3707\n",
      "6     3708\n",
      "7     3709\n",
      "8     3710\n",
      "9     3801\n",
      "10    3802\n",
      "11    3803\n",
      "12    3804\n",
      "13    3805\n",
      "14    3806\n",
      "15    3807\n",
      "16    3808\n",
      "17    3809\n",
      "18    3810\n",
      "19    3901\n",
      "20    3902\n",
      "21    3903\n",
      "22    4001\n",
      "23    4002\n",
      "24    4003\n",
      "25    4004\n",
      "26    4005\n",
      "27    4006\n",
      "28    4007\n",
      "29    4008\n",
      "30    4009\n",
      "31    4010\n",
      "32    4011\n",
      "33    4012\n",
      "34    4013\n",
      "35    4014\n",
      "36    4015\n",
      "37    4016\n",
      "38    4017\n",
      "39    4018\n",
      "40    4101\n",
      "41    4102\n",
      "42    4103\n",
      "43    4104\n",
      "44    4105\n",
      "45    4106\n",
      "46    4107\n",
      "47    4108\n",
      "48    4109\n",
      "49    4110\n",
      "50    4111\n",
      "51    4112\n",
      "52    4113\n",
      "53    4114\n",
      "54    3703\n",
      "Name: PUMA, dtype: int64\n",
      "int64\n"
     ]
    }
   ],
   "source": [
    "print avgs_per_puma['PUMA'].dtype\n",
    "print shapefile_df['PUMA'].dtype\n",
    "print shapefile_df['PUMA'].apply(np.int64)\n",
    "shapefile_df['PUMA'] = shapefile_df['PUMA'].apply(np.int64)\n",
    "print shapefile_df['PUMA'].dtype"
   ]
  },
  {
   "cell_type": "code",
   "execution_count": 159,
   "metadata": {
    "collapsed": true
   },
   "outputs": [],
   "source": [
    "avgs_per_puma['PUMA'] = avgs_per_puma.index"
   ]
  },
  {
   "cell_type": "code",
   "execution_count": 198,
   "metadata": {
    "collapsed": false
   },
   "outputs": [],
   "source": [
    "#print shapefile_df.iloc[0].geometry\n",
    "#print avgs_per_puma['PUMA']\n",
    "#print shapefile_df.sort_values(by='PUMA',ascending=False)\n",
    "#print avgs_per_puma.sort_values(by='PUMA',ascending=False)"
   ]
  },
  {
   "cell_type": "code",
   "execution_count": 216,
   "metadata": {
    "collapsed": false
   },
   "outputs": [],
   "source": [
    "#print pd.merge(avgs_per_puma, shapefile_df, how='right', on='PUMA').head\n",
    "#print shapefile_df[shapefile_df.PUMA.isin(avgs_per_puma.PUMA)].head\n",
    "#print avgs_per_puma.PUMA.head(3)\n",
    "#print shapefile_df.PUMA.head(3)\n",
    "joined = pd.merge(shapefile_df, avgs_per_puma, how='left', on='PUMA', left_index=True)\n"
   ]
  },
  {
   "cell_type": "code",
   "execution_count": 217,
   "metadata": {
    "collapsed": false
   },
   "outputs": [
    {
     "name": "stdout",
     "output_type": "stream",
     "text": [
      "Index([               u'PUMA',          u'Shape_Area',          u'Shape_Leng',\n",
      "                  u'geometry',               u'FINCP',               u'GRNTP',\n",
      "               u'rent_burden', u'rent_burden_percent'],\n",
      "      dtype='object')\n"
     ]
    }
   ],
   "source": [
    "print joined.columns"
   ]
  },
  {
   "cell_type": "code",
   "execution_count": 219,
   "metadata": {
    "collapsed": false
   },
   "outputs": [],
   "source": [
    "joined = joined.drop(['rent_burden'],axis=1)"
   ]
  },
  {
   "cell_type": "code",
   "execution_count": 220,
   "metadata": {
    "collapsed": false
   },
   "outputs": [
    {
     "name": "stdout",
     "output_type": "stream",
     "text": [
      "Index([               u'PUMA',          u'Shape_Area',          u'Shape_Leng',\n",
      "                  u'geometry',               u'FINCP',               u'GRNTP',\n",
      "       u'rent_burden_percent'],\n",
      "      dtype='object')\n"
     ]
    }
   ],
   "source": [
    "print joined.columns"
   ]
  },
  {
   "cell_type": "code",
   "execution_count": 221,
   "metadata": {
    "collapsed": false
   },
   "outputs": [
    {
     "name": "stdout",
     "output_type": "stream",
     "text": [
      "(55, 7)\n"
     ]
    }
   ],
   "source": [
    "print joined.shape"
   ]
  },
  {
   "cell_type": "code",
   "execution_count": 222,
   "metadata": {
    "collapsed": true
   },
   "outputs": [],
   "source": [
    "joined.to_csv('joined.csv')"
   ]
  },
  {
   "cell_type": "markdown",
   "metadata": {},
   "source": [
    "[how to georeference on carto](https://carto.com/learn/guides/analysis/georeference)"
   ]
  },
  {
   "cell_type": "code",
   "execution_count": 228,
   "metadata": {
    "collapsed": false
   },
   "outputs": [
    {
     "data": {
      "text/plain": [
       "0     POLYGON ((1006076.28338623 262138.1090087891, ...\n",
       "1     POLYGON ((1021632.335632324 267934.4393920898,...\n",
       "2     POLYGON ((1026308.769592285 256767.6972045898,...\n",
       "3     POLYGON ((1020434.516601562 248704.9116210938,...\n",
       "4     POLYGON ((1011917.66619873 255535.5838012695, ...\n",
       "5     POLYGON ((1012009.464599609 253420.0203857422,...\n",
       "6     POLYGON ((1005060.892822266 247052.5200195312,...\n",
       "7     (POLYGON ((1029456.000793457 237188.9177856445...\n",
       "8     (POLYGON ((1012821.805786133 229228.2645874023...\n",
       "9     (POLYGON ((1004601.953430176 259027.5151977539...\n",
       "10    POLYGON ((1001062.708984375 241053.7687988281,...\n",
       "11    POLYGON ((1001142.377197266 241305.2088012695,...\n",
       "12    (POLYGON ((1006028.597595215 231058.7962036133...\n",
       "13    (POLYGON ((1000370.938598633 219466.6605834961...\n",
       "14    POLYGON ((989355.5845947266 219020.2369995117,...\n",
       "15    POLYGON ((985170.3721923828 221087.3887939453,...\n",
       "16    (POLYGON ((994681.4056396484 203127.6748046875...\n",
       "17    (POLYGON ((989137.1102294922 196325.4387817383...\n",
       "18    (POLYGON ((981219.0557861328 188655.3157958984...\n",
       "19    (POLYGON ((970217.0223999023 145643.3322143555...\n",
       "20    POLYGON ((959034.3497924805 161250.7775878906,...\n",
       "21    (POLYGON ((939997.0947875977 173013.5794067383...\n",
       "22    POLYGON ((996887.8187866211 208559.3403930664,...\n",
       "23    POLYGON ((1002957.734436035 197313.9630126953,...\n",
       "24    POLYGON ((1000223.91998291 194677.7355957031, ...\n",
       "25    POLYGON ((991923.9985961914 197615.7178344727,...\n",
       "26    POLYGON ((983752.4111938477 191458.0272216797,...\n",
       "27    POLYGON ((1003897.089599609 188278.6498413086,...\n",
       "28    POLYGON ((1011097.269592285 186574.8106079102,...\n",
       "29    (POLYGON ((1015251.087036133 174914.5614013672...\n",
       "30    (POLYGON ((1007822.043395996 152881.5875854492...\n",
       "31    POLYGON ((1006386.648193359 179733.3193969727,...\n",
       "32    POLYGON ((1004147.387390137 180267.5375976562,...\n",
       "33    POLYGON ((985104.9985961914 183067.0723876953,...\n",
       "34    POLYGON ((974794.2377929688 174019.1569824219,...\n",
       "35    POLYGON ((982499.6558227539 169743.8810424805,...\n",
       "36    POLYGON ((997086.45703125 171933.9880371094, 9...\n",
       "37    POLYGON ((999782.7833862305 162246.8424072266,...\n",
       "38    POLYGON ((986318.1619873047 166716.416809082, ...\n",
       "39    POLYGON ((992169.2720336914 156843.4053955078,...\n",
       "40    POLYGON ((1010148.118591309 227175.0521850586,...\n",
       "41    (POLYGON ((1014692.487792969 221148.8715820312...\n",
       "42    (POLYGON ((1020835.19519043 226161.342590332, ...\n",
       "43    POLYGON ((1055302.830200195 222915.1177978516,...\n",
       "44    POLYGON ((1054355.516784668 206135.6910400391,...\n",
       "45    POLYGON ((1049881.158630371 208333.9739990234,...\n",
       "46    POLYGON ((1023873.126586914 217682.0093994141,...\n",
       "47    POLYGON ((1026559.225402832 208467.841003418, ...\n",
       "48    POLYGON ((1012935.740600586 212206.0104370117,...\n",
       "49    POLYGON ((1012564.178039551 207131.8432006836,...\n",
       "50    POLYGON ((1033351.717041016 198700.8569946289,...\n",
       "51    POLYGON ((1051539.660400391 201007.0130004883,...\n",
       "52    (POLYGON ((1023868.747192383 176222.7232055664...\n",
       "53    (POLYGON ((1029606.076599121 156073.8142089844...\n",
       "54    (POLYGON ((1042822.450195312 243439.8142089844...\n",
       "Name: geometry, dtype: object"
      ]
     },
     "execution_count": 228,
     "metadata": {},
     "output_type": "execute_result"
    }
   ],
   "source": [
    "shapefile_df.geometry"
   ]
  },
  {
   "cell_type": "code",
   "execution_count": null,
   "metadata": {
    "collapsed": true
   },
   "outputs": [],
   "source": []
  }
 ],
 "metadata": {
  "kernelspec": {
   "display_name": "Python 2",
   "language": "python",
   "name": "python2"
  },
  "language_info": {
   "codemirror_mode": {
    "name": "ipython",
    "version": 2
   },
   "file_extension": ".py",
   "mimetype": "text/x-python",
   "name": "python",
   "nbconvert_exporter": "python",
   "pygments_lexer": "ipython2",
   "version": "2.7.13"
  }
 },
 "nbformat": 4,
 "nbformat_minor": 2
}
